{
 "cells": [
  {
   "cell_type": "code",
   "execution_count": null,
   "metadata": {},
   "outputs": [],
   "source": [
    "import pandas as pd\n",
    "\n",
    "import sys\n",
    "\n",
    "sys.path.append(\"../src\")\n",
    "from data.scrap_website import scrap_page\n"
   ]
  },
  {
   "attachments": {},
   "cell_type": "markdown",
   "metadata": {},
   "source": [
    "# load data"
   ]
  },
  {
   "cell_type": "code",
   "execution_count": null,
   "metadata": {},
   "outputs": [],
   "source": [
    "# df = pd.read_csv(\"../data/interim/openmindfulness_contents.csv\")\n",
    "df = pd.read_csv(\"../data/processed/openmindfulness_contents.csv\")\n"
   ]
  },
  {
   "attachments": {},
   "cell_type": "markdown",
   "metadata": {},
   "source": [
    "# explore data"
   ]
  },
  {
   "cell_type": "code",
   "execution_count": null,
   "metadata": {},
   "outputs": [],
   "source": [
    "df.head()\n"
   ]
  },
  {
   "attachments": {},
   "cell_type": "markdown",
   "metadata": {},
   "source": [
    "## na cells"
   ]
  },
  {
   "cell_type": "code",
   "execution_count": null,
   "metadata": {},
   "outputs": [],
   "source": [
    "# show entries with na values\n",
    "# df[df.isna().any(axis=1)]\n",
    "# df[df.isna().any(axis=1)].url.values\n"
   ]
  },
  {
   "attachments": {},
   "cell_type": "markdown",
   "metadata": {},
   "source": [
    "## text length"
   ]
  },
  {
   "cell_type": "code",
   "execution_count": null,
   "metadata": {},
   "outputs": [],
   "source": [
    "df[[\"contents_length\", \"title_length\", \"contents_to_embed_length\"]].describe()"
   ]
  },
  {
   "attachments": {},
   "cell_type": "markdown",
   "metadata": {},
   "source": [
    "## explore a chapter"
   ]
  },
  {
   "cell_type": "code",
   "execution_count": null,
   "metadata": {},
   "outputs": [],
   "source": [
    "df.columns\n"
   ]
  },
  {
   "cell_type": "code",
   "execution_count": null,
   "metadata": {},
   "outputs": [],
   "source": [
    "df_sample = df[(df.sort_chapter == 3) & (df.sort_step_nb == 5)].sort_values(\n",
    "    \"sort_chapter\"\n",
    ")\n",
    "print(df_sample.columns)\n",
    "\n",
    "\n",
    "# df_sample[['sort_chapter','sort_step_nb','sort_section_nb','sort_paragraph_nb','page_title','contents_to_embed_length','contents_to_embed']].head(5).to_json(orient=\"records\")\n",
    "\n",
    "\n",
    "# create a column which concatenates the following columns: sort_chapter, sort_step_nb, sort_section_nb, sort_paragraph_nb, and join by a dot. add a leading zero to sort_section_nb\n",
    "df[\"id\"] = df.apply(\n",
    "    lambda row: str(int(row[\"sort_chapter\"]))\n",
    "    + \".\"\n",
    "    + str(int(row[\"sort_step_nb\"]))\n",
    "    + \".\"\n",
    "    + str(int(row[\"sort_section_nb\"])).zfill(2)\n",
    "    + \".\"\n",
    "    + str(int(row[\"sort_paragraph_nb\"])).zfill(2),\n",
    "    axis=1,\n",
    ")"
   ]
  },
  {
   "cell_type": "code",
   "execution_count": null,
   "metadata": {},
   "outputs": [],
   "source": []
  }
 ],
 "metadata": {
  "kernelspec": {
   "display_name": "rimay_search",
   "language": "python",
   "name": "python3"
  },
  "language_info": {
   "codemirror_mode": {
    "name": "ipython",
    "version": 3
   },
   "file_extension": ".py",
   "mimetype": "text/x-python",
   "name": "python",
   "nbconvert_exporter": "python",
   "pygments_lexer": "ipython3",
   "version": "3.11.2"
  },
  "orig_nbformat": 4
 },
 "nbformat": 4,
 "nbformat_minor": 2
}
